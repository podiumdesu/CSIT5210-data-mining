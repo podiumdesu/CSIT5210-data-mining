{
 "cells": [
  {
   "cell_type": "code",
   "execution_count": 2,
   "id": "580696d5",
   "metadata": {},
   "outputs": [],
   "source": [
    "import tensorflow as tf\n",
    "from tensorflow import keras\n",
    "from tensorflow.keras.preprocessing import image\n",
    "import matplotlib.pyplot as plt\n",
    "import os\n",
    "import numpy as np"
   ]
  },
  {
   "cell_type": "code",
   "execution_count": 29,
   "id": "5e6af07d",
   "metadata": {},
   "outputs": [
    {
     "data": {
      "text/plain": [
       "128"
      ]
     },
     "execution_count": 29,
     "metadata": {},
     "output_type": "execute_result"
    }
   ],
   "source": [
    "inlier_path = os.path.join('fingerprint\\Real')\n",
    "\n",
    "inlier = [os.path.join(inlier_path, fname)\n",
    "          for fname in os.listdir(inlier_path)]\n",
    "\n",
    "outlier_path = os.path.join('pattern')\n",
    "outlier = []\n",
    "for d in os.listdir(outlier_path):\n",
    "    nested_d = os.path.join(outlier_path, d)\n",
    "    pattern = [os.path.join(nested_d, fname) for fname in os.listdir(nested_d)]\n",
    "    outlier += pattern\n",
    "    \n",
    "import random\n",
    "random.shuffle(outlier)\n",
    "num_of_file = len(inlier)\n",
    "num_of_file\n"
   ]
  },
  {
   "cell_type": "code",
   "execution_count": 30,
   "id": "4e20107c",
   "metadata": {},
   "outputs": [],
   "source": [
    "samples = np.array(inlier + outlier[:32])\n",
    "labels = np.array([0 for i in range(num_of_file)] + [1 for i in range(len(outlier[:32]))])"
   ]
  },
  {
   "cell_type": "code",
   "execution_count": 31,
   "id": "820641c3",
   "metadata": {},
   "outputs": [],
   "source": [
    "indices = np.arange(samples.shape[0])\n",
    "# #np.random.shuffle(indices)\n",
    "\n",
    "# samples = samples[indices]\n",
    "# labels = labels[indices]\n",
    "\n",
    "X_train_path = samples\n",
    "y_train = labels\n",
    "# X_test_path = samples[100:]\n",
    "# y_test = labels[100:]"
   ]
  },
  {
   "cell_type": "code",
   "execution_count": 32,
   "id": "202fba05",
   "metadata": {},
   "outputs": [
    {
     "data": {
      "text/plain": [
       "160"
      ]
     },
     "execution_count": 32,
     "metadata": {},
     "output_type": "execute_result"
    }
   ],
   "source": [
    "len(labels)"
   ]
  },
  {
   "cell_type": "code",
   "execution_count": 33,
   "id": "4d53edf6",
   "metadata": {},
   "outputs": [
    {
     "data": {
      "text/plain": [
       "<matplotlib.image.AxesImage at 0x20215ffdf98>"
      ]
     },
     "execution_count": 33,
     "metadata": {},
     "output_type": "execute_result"
    },
    {
     "data": {
      "image/png": "[encoded data removed]",
      "text/plain": [
       "<Figure size 432x288 with 2 Axes>"
      ]
     },
     "metadata": {
      "needs_background": "light"
     },
     "output_type": "display_data"
    }
   ],
   "source": [
    "def pipeline(img_path):\n",
    "    img = image.load_img(img_path,target_size = (60,45),color_mode = \"grayscale\")\n",
    "    img = image.img_to_array(img)\n",
    "    return img.flatten()\n",
    "#plt.figure\n",
    "fig,ax = plt.subplots(1,2)\n",
    "ax[0].imshow(image.array_to_img(pipeline(inlier[0]).reshape(60,45,1)),cmap=\"gray\")\n",
    "ax[1].imshow(image.array_to_img(pipeline(outlier[0]).reshape(60,45,1)),cmap=\"gray\")"
   ]
  },
  {
   "cell_type": "code",
   "execution_count": 35,
   "id": "c8a7f2ed",
   "metadata": {},
   "outputs": [
    {
     "data": {
      "text/plain": [
       "array([0, 0, 0, 0, 0, 0, 0, 0, 0, 0, 0, 0, 0, 0, 0, 0, 0, 0, 0, 0, 0, 0,\n",
       "       0, 0, 0, 0, 0, 0, 0, 0, 0, 0, 0, 0, 0, 0, 0, 0, 0, 0, 0, 0, 0, 0,\n",
       "       0, 0, 0, 0, 0, 0, 0, 0, 0, 0, 0, 0, 0, 0, 0, 0, 0, 0, 0, 0, 0, 0,\n",
       "       0, 0, 0, 0, 0, 0, 0, 0, 0, 0, 0, 0, 0, 0, 0, 0, 0, 0, 0, 0, 0, 0,\n",
       "       0, 0, 0, 0, 0, 0, 0, 0, 0, 0, 0, 0, 0, 0, 0, 0, 0, 0, 0, 0, 0, 0,\n",
       "       0, 0, 0, 0, 0, 0, 0, 0, 0, 0, 0, 0, 0, 0, 0, 0, 0, 0, 1, 1, 1, 1,\n",
       "       1, 1, 1, 1, 1, 1, 1, 1, 1, 1, 1, 1, 1, 1, 1, 1, 1, 1, 1, 1, 1, 1,\n",
       "       1, 1, 1, 1, 1, 1])"
      ]
     },
     "execution_count": 35,
     "metadata": {},
     "output_type": "execute_result"
    }
   ],
   "source": [
    "y_train"
   ]
  },
  {
   "cell_type": "code",
   "execution_count": 36,
   "id": "92c4a44d",
   "metadata": {},
   "outputs": [],
   "source": [
    "X_train = []\n",
    "# X_test = []\n",
    "for path in X_train_path:\n",
    "    img = pipeline(path)\n",
    "    X_train.append(img)\n",
    "# for path in X_test_path:\n",
    "#     img = image.load_img(path,target_size = (60,45), color_mode = \"grayscale\")\n",
    "#     img = image.img_to_array(img)\n",
    "#     img = img.flatten()\n",
    "#     X_test.append(img)"
   ]
  },
  {
   "cell_type": "code",
   "execution_count": 37,
   "id": "736bcb06",
   "metadata": {},
   "outputs": [],
   "source": [
    "X_train = np.vstack(X_train)\n",
    "#X_test = np.vstack(X_test)\n",
    "y_train = np.vstack(y_train)\n",
    "#y_test = np.vstack(y_test)"
   ]
  },
  {
   "cell_type": "code",
   "execution_count": 39,
   "id": "452e7004",
   "metadata": {},
   "outputs": [
    {
     "data": {
      "text/plain": [
       "160"
      ]
     },
     "execution_count": 39,
     "metadata": {},
     "output_type": "execute_result"
    }
   ],
   "source": [
    "X_train.shape[0]"
   ]
  },
  {
   "cell_type": "code",
   "execution_count": 40,
   "id": "c426d4b6",
   "metadata": {},
   "outputs": [],
   "source": [
    "from pyod.models.copod import COPOD\n",
    "clf = COPOD(contamination = 0.2)"
   ]
  },
  {
   "cell_type": "code",
   "execution_count": 41,
   "id": "f79341c8",
   "metadata": {},
   "outputs": [
    {
     "data": {
      "text/plain": [
       "['model2.joblib']"
      ]
     },
     "execution_count": 41,
     "metadata": {},
     "output_type": "execute_result"
    }
   ],
   "source": [
    "clf.fit(X_train)\n",
    "\n",
    "from joblib import dump, load\n",
    "\n",
    "# save the model\n",
    "dump(clf, 'model2.joblib')"
   ]
  },
  {
   "cell_type": "code",
   "execution_count": 42,
   "id": "87765970",
   "metadata": {},
   "outputs": [],
   "source": [
    "from joblib import dump, load\n",
    "\n",
    "# load the model\n",
    "clf = load('model2.joblib')"
   ]
  },
  {
   "cell_type": "code",
   "execution_count": 43,
   "id": "3c6f9e81",
   "metadata": {},
   "outputs": [
    {
     "name": "stdout",
     "output_type": "stream",
     "text": [
      "\n",
      "On Training Data:\n",
      "COPOD ROC:0.9333, precision @ rank n:0.75\n"
     ]
    }
   ],
   "source": [
    "from pyod.utils.data import evaluate_print\n",
    "from pyod.utils.example import visualize\n",
    "\n",
    "clf_name = \"COPOD\"\n",
    "\n",
    "y_train_pred = clf.labels_  # binary labels (0: inliers, 1: outliers)\n",
    "y_train_scores = clf.decision_scores_  # raw outlier scores\n",
    "\n",
    "# get the prediction on the test data\n",
    "# y_test_pred = clf.predict(X_test)  # outlier labels (0 or 1)\n",
    "# y_test_scores = clf.decision_function(X_test)  # outlier scores\n",
    "\n",
    "# evaluate and print the results\n",
    "print(\"\\nOn Training Data:\")\n",
    "evaluate_print(clf_name, y_train, y_train_scores)\n",
    "# print(\"\\nOn Test Data:\")\n",
    "# evaluate_print(clf_name, y_test, y_test_scores)\n",
    "\n",
    "# visualize the results\n",
    "# visualize(\"COPOD\", X_train, Y_train, X_test, Y_test, y_train_pred,\n",
    "#           y_test_pred, show_figure=True, save_figure=False)"
   ]
  },
  {
   "cell_type": "code",
   "execution_count": 44,
   "id": "0716a452",
   "metadata": {},
   "outputs": [
    {
     "name": "stdout",
     "output_type": "stream",
     "text": [
      "[0 0 0 0 0 0 0 0 0 0 0 0 0 0 0 0 0 0 0 0 0 0 0 0 0 0 0 0 0 0 0 0 0 0 0 0 0\n",
      " 0 0 0 0 0 0 0 0 0 0 0 0 0 0 0 0 0 0 0 0 0 0 0 0 0 0 0 0 0 0 0 0 0 0 0 0 0\n",
      " 0 0 0 0 0 0 0 0 0 0 0 0 0 0 0 0 0 0 0 0 0 0 0 0 0 0 0 0 0 0 0 0 0 0 0 0 0\n",
      " 0 0 0 0 0 0 0 0 0 0 0 0 0 0 0 0 0 1 1 1 1 1 1 1 1 1 1 1 1 1 1 1 1 1 1 1 1\n",
      " 1 1 1 1 1 1 1 1 1 1 1 1]\n",
      "[0 0 0 0 0 0 0 0 1 1 1 1 0 0 0 0 0 0 0 0 0 0 0 0 0 0 0 0 0 0 0 0 0 0 0 0 0\n",
      " 0 0 0 0 0 0 0 0 0 0 0 0 0 0 0 0 0 0 0 0 0 0 0 0 0 0 0 1 0 0 0 0 0 0 0 0 0\n",
      " 0 0 0 0 0 0 0 0 0 0 0 0 0 0 0 0 0 0 0 0 0 0 1 1 1 0 0 0 0 0 0 0 0 0 0 0 0\n",
      " 0 0 0 0 0 0 0 0 0 0 0 0 0 0 0 0 0 1 1 1 0 1 0 1 1 1 1 0 0 1 1 1 1 0 0 0 1\n",
      " 1 1 1 1 1 1 1 1 1 0 1 1]\n",
      "8\n",
      "8\n"
     ]
    }
   ],
   "source": [
    "print(labels)\n",
    "print(clf.labels_)\n",
    "print(sum(clf.labels_[:128]))\n",
    "print(32-sum(clf.labels_[128:]))"
   ]
  },
  {
   "cell_type": "code",
   "execution_count": 45,
   "id": "26969879",
   "metadata": {},
   "outputs": [
    {
     "name": "stdout",
     "output_type": "stream",
     "text": [
      "precision is 0.265625\n"
     ]
    }
   ],
   "source": [
    "more_test = [os.path.join('fingerprint\\\\Distorted', fname)\n",
    "             for fname in os.listdir('fingerprint\\\\Distorted')]\n",
    "result = []\n",
    "X = []\n",
    "for i in more_test:\n",
    "    img = image.load_img(i, target_size = (60,45), color_mode = \"grayscale\")\n",
    "    x = image.img_to_array(img).flatten()\n",
    "    X.append(x)\n",
    "X = np.vstack(X)\n",
    "y = clf.predict(X)\n",
    "#y = clf.decision_function(X)\n",
    "print('precision is',sum(y)/len(y))\n"
   ]
  },
  {
   "cell_type": "code",
   "execution_count": 46,
   "id": "dcb19285",
   "metadata": {},
   "outputs": [
    {
     "data": {
      "text/plain": [
       "0.265625"
      ]
     },
     "execution_count": 46,
     "metadata": {},
     "output_type": "execute_result"
    }
   ],
   "source": [
    "sum(y)/len(y)"
   ]
  }
 ],
 "metadata": {
  "kernelspec": {
   "display_name": "Python 3",
   "language": "python",
   "name": "python3"
  },
  "language_info": {
   "codemirror_mode": {
    "name": "ipython",
    "version": 3
   },
   "file_extension": ".py",
   "mimetype": "text/x-python",
   "name": "python",
   "nbconvert_exporter": "python",
   "pygments_lexer": "ipython3",
   "version": "3.6.13"
  }
 },
 "nbformat": 4,
 "nbformat_minor": 5
}
